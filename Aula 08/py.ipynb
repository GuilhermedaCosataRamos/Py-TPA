{
 "cells": [
  {
   "cell_type": "markdown",
   "metadata": {},
   "source": [
    "# Aula 08 - Introdução a Estrutura de Dados \n",
    "## Fila (FIFO)"
   ]
  },
  {
   "cell_type": "code",
   "execution_count": null,
   "metadata": {},
   "outputs": [],
   "source": [
    "class Fila \n",
    "    def _init_(self) -> None:\n",
    "        self.fila =1\n",
    "\n",
    "    def enfileirar(self, item):\n",
    "        self.fila.append\n",
    "        print(f\"{item} foi adicionado á fila\")\n",
    "\n",
    "    def vazio(self):\n",
    "        return len (self.fila) == 0 \n",
    "    def desinfileirar(self): \n",
    "        if not self.vazio():\n",
    "            item = self.fila.pop(0)\n",
    "            print(f\"{item} foi re\")   \n",
    "            return item \n",
    "        else:\n",
    "            print(\"O caixa está\")\n",
    "            return 0 \n",
    "    def tamanho (self):\n",
    "        if len(self.fila) == 0:\n",
    "            print(\"O caixa está livre\")\n",
    "        else:\n",
    "            print(f\"tem {len(self.fila)} pessoas na fila\")        "
   ]
  },
  {
   "cell_type": "code",
   "execution_count": 1,
   "metadata": {},
   "outputs": [],
   "source": [
    "from collections import deque \n",
    "\n",
    "class Farmacia:\n",
    "    def _init_(self):\n",
    "        self.farmacia = deque()\n",
    "\n",
    "\n",
    "    def aguardar (self,nome):\n",
    "        self.farmacia.append(nome)\n",
    "        print(f\"{nome} está na fila\")\n",
    "    def vazio(self):\n",
    "        return len(self.farmacia) == 0\n",
    "\n",
    "\n",
    "    def atender(self):\n",
    "        if not self.vazio():\n",
    "            nome = self.farmacia.popleft ()\n",
    "            print(f\"{nome} foi atendido(a)\")\n",
    "        else:\n",
    "            print(\"o atendente esta livre\")\n",
    "    def tamanho(self):\n",
    "        if len(self.farmacia) == 0:\n",
    "            print(\"a fila esta vazia\")\n",
    "        else:\n",
    "            print(f\"tem {len(self.farmacia)} pessoas na fila\")\n",
    "                            "
   ]
  },
  {
   "cell_type": "markdown",
   "metadata": {},
   "source": [
    "## Atividade 2 - Atendimento da Farmácia "
   ]
  },
  {
   "cell_type": "markdown",
   "metadata": {},
   "source": [
    "### Ao abrir a farmácia pela manhã, a balconista recebe 5 pessoas. 3 delas são atendidas e vão ao caixa. As demas estão aguardando para ser atendidas. Inclua o nome das 5 pessoas, atenda 3 e depois mostre o tamnho da fila ."
   ]
  },
  {
   "cell_type": "code",
   "execution_count": null,
   "metadata": {},
   "outputs": [],
   "source": [
    "farmacia = Farmacia () \n",
    "farmacia.aguardar(\"julio\")\n",
    "farmacia.aguardar(\"holanda\")\n",
    "farmacia.aguardar(\"Nestor\")\n",
    "farmacia.aguardar(\"Jossiana\")\n",
    "farmacia.aguardar(\"Douglas\")\n",
    "farmacia.atender()\n",
    "farmacia.atender()\n",
    "farmacia.atender()\n",
    "farmacia.tamanho()"
   ]
  },
  {
   "cell_type": "markdown",
   "metadata": {},
   "source": [
    "## Pilha (LIFO)"
   ]
  },
  {
   "cell_type": "code",
   "execution_count": null,
   "metadata": {},
   "outputs": [],
   "source": [
    "class Editor:\n",
    "    def __init__(self):\n",
    "        self.texto = \"\"\n",
    "        self.historico = []\n",
    "\n",
    "    def escrever(self,texto):\n",
    "        self.historico.append(self.texto)    \n",
    "       \n",
    "     "
   ]
  },
  {
   "cell_type": "markdown",
   "metadata": {},
   "source": [
    "## Atividade 3 "
   ]
  },
  {
   "cell_type": "markdown",
   "metadata": {},
   "source": [
    "### Em um editor Yago escreve primeiro \"Olá\", depois \"mundo\" e por ultimo \"Por;\" e \"Yago.\";Depois disso nele exibiu o texto editado. Logo após decidiu remover \"Por: Yago\". Faça um algoritimo que realize o passo-a-passo de Yago e visualize o resultado."
   ]
  }
 ],
 "metadata": {
  "kernelspec": {
   "display_name": "Python 3",
   "language": "python",
   "name": "python3"
  },
  "language_info": {
   "codemirror_mode": {
    "name": "ipython",
    "version": 3
   },
   "file_extension": ".py",
   "mimetype": "text/x-python",
   "name": "python",
   "nbconvert_exporter": "python",
   "pygments_lexer": "ipython3",
   "version": "3.12.2"
  }
 },
 "nbformat": 4,
 "nbformat_minor": 2
}
